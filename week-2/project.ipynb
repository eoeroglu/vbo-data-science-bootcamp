{
 "cells": [
  {
   "cell_type": "markdown",
   "source": [
    "# **Kural Tabanlı Sınıflandırma**\r\n",
    "\r\n",
    "- [Libraries](#libraries)\r\n",
    "- [Görev 1](#görev-1)\r\n",
    "  * [Sorular](#sorular)\r\n",
    "    + [Soru 1](#soru-1)\r\n",
    "    + [Soru 2](#soru-2)\r\n",
    "    + [Soru 3](#soru-3)\r\n",
    "    + [Soru 4](#soru-4)\r\n",
    "    + [Soru 5](#soru-5)\r\n",
    "    + [Soru 6](#soru-6)\r\n",
    "    + [Soru 7](#soru-7)\r\n",
    "    + [Soru 8](#soru-8)\r\n",
    "    + [Soru 9](#soru-9)\r\n",
    "    + [Soru 10](#soru-10)\r\n",
    "- [Görev 2](#görev-2)\r\n",
    "- [Görev 3](#görev-3)\r\n",
    "- [Görev 4](#görev-4)\r\n",
    "- [Görev 5](#görev-5)\r\n",
    "- [Görev 6](#görev-6)\r\n",
    "- [Görev 7](#görev-7)\r\n",
    "\r\n",
    "`\r\n",
    "  print('hello world')\r\n",
    "`"
   ],
   "metadata": {}
  },
  {
   "cell_type": "markdown",
   "source": [
    "# Libraries"
   ],
   "metadata": {}
  },
  {
   "cell_type": "code",
   "execution_count": null,
   "source": [
    "import pandas as pd"
   ],
   "outputs": [],
   "metadata": {}
  },
  {
   "cell_type": "markdown",
   "source": [
    "# Görev 1"
   ],
   "metadata": {}
  },
  {
   "cell_type": "markdown",
   "source": [
    "## Soru 1"
   ],
   "metadata": {}
  },
  {
   "cell_type": "code",
   "execution_count": null,
   "source": [
    "df = pd.read_csv('persona.csv', sep=';')\r\n",
    "print(df.describe().T)\r\n",
    "print('###############################################')\r\n",
    "print(df.shape)\r\n",
    "print('###############################################')\r\n",
    "print(df.info())\r\n",
    "print('###############################################')\r\n",
    "print(df.isnull().values.any())\r\n",
    "print('###############################################')"
   ],
   "outputs": [],
   "metadata": {}
  },
  {
   "cell_type": "markdown",
   "source": [
    "## Soru 2"
   ],
   "metadata": {}
  },
  {
   "cell_type": "code",
   "execution_count": null,
   "source": [
    "df['SOURCE'].value_counts()"
   ],
   "outputs": [],
   "metadata": {}
  },
  {
   "cell_type": "markdown",
   "source": [
    "## Soru 3"
   ],
   "metadata": {}
  },
  {
   "cell_type": "code",
   "execution_count": null,
   "source": [
    "df['PRICE'].nunique()"
   ],
   "outputs": [],
   "metadata": {}
  },
  {
   "cell_type": "markdown",
   "source": [
    "## Soru 4"
   ],
   "metadata": {}
  },
  {
   "cell_type": "code",
   "execution_count": null,
   "source": [
    "df['PRICE'].value_counts()"
   ],
   "outputs": [],
   "metadata": {}
  },
  {
   "cell_type": "markdown",
   "source": [
    "## Soru 5"
   ],
   "metadata": {}
  },
  {
   "cell_type": "code",
   "execution_count": null,
   "source": [
    "df['COUNTRY'].value_counts()"
   ],
   "outputs": [],
   "metadata": {}
  },
  {
   "cell_type": "markdown",
   "source": [
    "## Soru 6"
   ],
   "metadata": {}
  },
  {
   "cell_type": "code",
   "execution_count": null,
   "source": [
    "df.groupby(['COUNTRY'])['PRICE'].agg('sum')"
   ],
   "outputs": [],
   "metadata": {}
  },
  {
   "cell_type": "markdown",
   "source": [
    "## Soru 7"
   ],
   "metadata": {}
  },
  {
   "cell_type": "code",
   "execution_count": null,
   "source": [
    "df['SOURCE'].value_counts()"
   ],
   "outputs": [],
   "metadata": {}
  },
  {
   "cell_type": "markdown",
   "source": [
    "## Soru 8"
   ],
   "metadata": {}
  },
  {
   "cell_type": "code",
   "execution_count": null,
   "source": [
    "df.groupby(['COUNTRY'])['PRICE'].agg('mean').reset_index()"
   ],
   "outputs": [],
   "metadata": {}
  },
  {
   "cell_type": "markdown",
   "source": [
    "## Soru 9"
   ],
   "metadata": {}
  },
  {
   "cell_type": "code",
   "execution_count": null,
   "source": [
    "df.groupby(['SOURCE'])['PRICE'].agg('mean').reset_index()"
   ],
   "outputs": [],
   "metadata": {}
  },
  {
   "cell_type": "markdown",
   "source": [
    "## Soru 10"
   ],
   "metadata": {}
  },
  {
   "cell_type": "code",
   "execution_count": null,
   "source": [
    "df.groupby(['COUNTRY', 'SOURCE'])['PRICE'].agg('mean').reset_index()"
   ],
   "outputs": [],
   "metadata": {}
  },
  {
   "cell_type": "markdown",
   "source": [
    "# Görev 2"
   ],
   "metadata": {}
  },
  {
   "cell_type": "code",
   "execution_count": null,
   "source": [
    "df.groupby(['COUNTRY','SOURCE','SEX','AGE'])['PRICE'].agg(PRICE='mean')"
   ],
   "outputs": [],
   "metadata": {}
  },
  {
   "cell_type": "markdown",
   "source": [
    "# Görev 3"
   ],
   "metadata": {}
  },
  {
   "cell_type": "code",
   "execution_count": null,
   "source": [
    "agg_df = df.groupby(['COUNTRY','SOURCE','SEX','AGE'])['PRICE'].agg(PRICE='mean').sort_values(by='PRICE',ascending=False)\r\n",
    "agg_df"
   ],
   "outputs": [],
   "metadata": {}
  },
  {
   "cell_type": "markdown",
   "source": [
    "# Görev 4"
   ],
   "metadata": {}
  },
  {
   "cell_type": "code",
   "execution_count": null,
   "source": [
    "agg_df.reset_index(inplace=True)\r\n",
    "agg_df"
   ],
   "outputs": [],
   "metadata": {}
  },
  {
   "cell_type": "markdown",
   "source": [
    "# Görev 5"
   ],
   "metadata": {}
  },
  {
   "cell_type": "code",
   "execution_count": null,
   "source": [
    "agg_df['AGE_CAT'] = pd.cut(agg_df[\"AGE\"], [0, 18, 23, 30, 40, 70], labels=['0_18', '19_23', '24_30', '31_40', '41_70'])\r\n",
    "agg_df"
   ],
   "outputs": [],
   "metadata": {}
  },
  {
   "cell_type": "markdown",
   "source": [
    "# Görev 6"
   ],
   "metadata": {}
  },
  {
   "cell_type": "code",
   "execution_count": null,
   "source": [
    "agg_df['customers_level_based'] = agg_df[['COUNTRY','SOURCE','SEX','AGE_CAT']].apply(lambda x : '{}_{}_{}_{}'.format(x[0].upper(),x[1].upper(),x[2].upper(),x[3]), axis=1)\r\n",
    "agg_df = agg_df[['customers_level_based','PRICE']]\r\n",
    "agg_df = agg_df.groupby(['customers_level_based'])['PRICE'].agg(PRICE='mean')\r\n",
    "agg_df.reset_index(inplace=True)\r\n",
    "agg_df"
   ],
   "outputs": [],
   "metadata": {}
  },
  {
   "cell_type": "markdown",
   "source": [
    "# Görev 7"
   ],
   "metadata": {}
  },
  {
   "cell_type": "code",
   "execution_count": null,
   "source": [
    "agg_df['SEGMENT'] = pd.qcut(agg_df['PRICE'], 4, labels=['D','C','B','A'])\r\n",
    "agg_df[agg_df['SEGMENT'] == 'C']"
   ],
   "outputs": [],
   "metadata": {}
  },
  {
   "cell_type": "code",
   "execution_count": null,
   "source": [
    "print(agg_df[agg_df['customers_level_based'] == 'TUR_ANDROID_FEMALE_31_40']['SEGMENT'])\r\n",
    "print(agg_df[agg_df['customers_level_based'] == 'FRA_IOS_FEMALE_31_40']['SEGMENT'])"
   ],
   "outputs": [],
   "metadata": {}
  },
  {
   "cell_type": "markdown",
   "source": [
    "`\r\n",
    "Erdogan Onur Eroglu\r\n",
    "`"
   ],
   "metadata": {}
  }
 ],
 "metadata": {
  "orig_nbformat": 4,
  "language_info": {
   "name": "python",
   "version": "3.9.7",
   "mimetype": "text/x-python",
   "codemirror_mode": {
    "name": "ipython",
    "version": 3
   },
   "pygments_lexer": "ipython3",
   "nbconvert_exporter": "python",
   "file_extension": ".py"
  },
  "kernelspec": {
   "name": "python3",
   "display_name": "Python 3.9.7 64-bit ('datascience': conda)"
  },
  "interpreter": {
   "hash": "695bf4449440c121b882cfabce879ff83e95b11d1c3de532d063a3f5bef3c21f"
  }
 },
 "nbformat": 4,
 "nbformat_minor": 2
}