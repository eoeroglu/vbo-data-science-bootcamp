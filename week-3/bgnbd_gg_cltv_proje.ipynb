{
 "cells": [
  {
   "cell_type": "markdown",
   "source": [
    "# **BGNBD & GG ile CLTV Tahmini ve Sonuçların Uzak Sunucuya Gönderilmesi**\r\n",
    "\r\n",
    "- [Görev 1](#görev-1)\r\n",
    "- [Görev 2](#görev-2)\r\n",
    "- [Görev 3](#görev-3)\r\n",
    "- [Görev 4](#görev-4)\r\n",
    "\r\n",
    "`\r\n",
    "print('hello world')\r\n",
    "`"
   ],
   "metadata": {}
  },
  {
   "cell_type": "code",
   "execution_count": null,
   "source": [],
   "outputs": [],
   "metadata": {}
  }
 ],
 "metadata": {
  "orig_nbformat": 4,
  "language_info": {
   "name": "python"
  }
 },
 "nbformat": 4,
 "nbformat_minor": 2
}